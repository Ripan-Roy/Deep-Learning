{
 "cells": [
  {
   "cell_type": "code",
   "execution_count": 1,
   "metadata": {
    "id": "pELLUNVzJWB6"
   },
   "outputs": [],
   "source": [
    "import tensorflow\n",
    "from tensorflow import keras\n",
    "from tensorflow.keras import Sequential\n",
    "from tensorflow.keras.layers import Dense,Flatten"
   ]
  },
  {
   "cell_type": "code",
   "execution_count": 2,
   "metadata": {
    "id": "KRTH93VyMYF7"
   },
   "outputs": [
    {
     "name": "stdout",
     "output_type": "stream",
     "text": [
      "Downloading data from https://storage.googleapis.com/tensorflow/tf-keras-datasets/mnist.npz\n",
      "11490434/11490434 [==============================] - 1s 0us/step\n"
     ]
    }
   ],
   "source": [
    "(X_train,y_train),(X_test,y_test) = keras.datasets.mnist.load_data()"
   ]
  },
  {
   "cell_type": "code",
   "execution_count": 4,
   "metadata": {
    "colab": {
     "base_uri": "https://localhost:8080/"
    },
    "id": "m0hHUKoNMpsZ",
    "outputId": "c48fd0c4-3edb-4cdc-8883-d6de097fbe98"
   },
   "outputs": [
    {
     "data": {
      "text/plain": [
       "(10000, 28, 28)"
      ]
     },
     "execution_count": 4,
     "metadata": {},
     "output_type": "execute_result"
    }
   ],
   "source": [
    "X_test.shape"
   ]
  },
  {
   "cell_type": "code",
   "execution_count": 5,
   "metadata": {
    "colab": {
     "base_uri": "https://localhost:8080/"
    },
    "id": "skzwnglnMzl6",
    "outputId": "ed1b62cf-97e9-44dd-fa63-2643180954a3"
   },
   "outputs": [
    {
     "data": {
      "text/plain": [
       "array([5, 0, 4, ..., 5, 6, 8], dtype=uint8)"
      ]
     },
     "execution_count": 5,
     "metadata": {},
     "output_type": "execute_result"
    }
   ],
   "source": [
    "y_train"
   ]
  },
  {
   "cell_type": "code",
   "execution_count": 7,
   "metadata": {
    "colab": {
     "base_uri": "https://localhost:8080/",
     "height": 283
    },
    "id": "jr2MuKsKRH5G",
    "outputId": "904487c2-a0ac-4a96-d4a0-e67d9dc8461e"
   },
   "outputs": [
    {
     "data": {
      "text/plain": [
       "<matplotlib.image.AxesImage at 0x19d673ef1f0>"
      ]
     },
     "execution_count": 7,
     "metadata": {},
     "output_type": "execute_result"
    },
    {
     "data": {
      "image/png": "[encoded data removed]",
      "text/plain": [
       "<Figure size 640x480 with 1 Axes>"
      ]
     },
     "metadata": {},
     "output_type": "display_data"
    }
   ],
   "source": [
    "import matplotlib.pyplot as plt\n",
    "plt.imshow(X_train[1])"
   ]
  },
  {
   "cell_type": "code",
   "execution_count": 8,
   "metadata": {
    "id": "dJmO2WLlRRT1"
   },
   "outputs": [],
   "source": [
    "X_train = X_train/255\n",
    "X_test = X_test/255"
   ]
  },
  {
   "cell_type": "code",
   "execution_count": 9,
   "metadata": {
    "colab": {
     "base_uri": "https://localhost:8080/"
    },
    "id": "i1WA9FioRdtB",
    "outputId": "5743362a-3ff6-4e8c-ae87-9849834e9bd3"
   },
   "outputs": [
    {
     "data": {
      "text/plain": [
       "array([[0.        , 0.        , 0.        , 0.        , 0.        ,\n",
       "        0.        , 0.        , 0.        , 0.        , 0.        ,\n",
       "        0.        , 0.        , 0.        , 0.        , 0.        ,\n",
       "        0.        , 0.        , 0.        , 0.        , 0.        ,\n",
       "        0.        , 0.        , 0.        , 0.        , 0.        ,\n",
       "        0.        , 0.        , 0.        ],\n",
       "       [0.        , 0.        , 0.        , 0.        , 0.        ,\n",
       "        0.        , 0.        , 0.        , 0.        , 0.        ,\n",
       "        0.        , 0.        , 0.        , 0.        , 0.        ,\n",
       "        0.        , 0.        , 0.        , 0.        , 0.        ,\n",
       "        0.        , 0.        , 0.        , 0.        , 0.        ,\n",
       "        0.        , 0.        , 0.        ],\n",
       "       [0.        , 0.        , 0.        , 0.        , 0.        ,\n",
       "        0.        , 0.        , 0.        , 0.        , 0.        ,\n",
       "        0.        , 0.        , 0.        , 0.        , 0.        ,\n",
       "        0.        , 0.        , 0.        , 0.        , 0.        ,\n",
       "        0.        , 0.        , 0.        , 0.        , 0.        ,\n",
       "        0.        , 0.        , 0.        ],\n",
       "       [0.        , 0.        , 0.        , 0.        , 0.        ,\n",
       "        0.        , 0.        , 0.        , 0.        , 0.        ,\n",
       "        0.        , 0.        , 0.        , 0.        , 0.        ,\n",
       "        0.        , 0.        , 0.        , 0.        , 0.        ,\n",
       "        0.        , 0.        , 0.        , 0.        , 0.        ,\n",
       "        0.        , 0.        , 0.        ],\n",
       "       [0.        , 0.        , 0.        , 0.        , 0.        ,\n",
       "        0.        , 0.        , 0.        , 0.        , 0.        ,\n",
       "        0.        , 0.        , 0.        , 0.        , 0.        ,\n",
       "        0.        , 0.        , 0.        , 0.        , 0.        ,\n",
       "        0.        , 0.        , 0.        , 0.        , 0.        ,\n",
       "        0.        , 0.        , 0.        ],\n",
       "       [0.        , 0.        , 0.        , 0.        , 0.        ,\n",
       "        0.        , 0.        , 0.        , 0.        , 0.        ,\n",
       "        0.        , 0.        , 0.01176471, 0.07058824, 0.07058824,\n",
       "        0.07058824, 0.49411765, 0.53333333, 0.68627451, 0.10196078,\n",
       "        0.65098039, 1.        , 0.96862745, 0.49803922, 0.        ,\n",
       "        0.        , 0.        , 0.        ],\n",
       "       [0.        , 0.        , 0.        , 0.        , 0.        ,\n",
       "        0.        , 0.        , 0.        , 0.11764706, 0.14117647,\n",
       "        0.36862745, 0.60392157, 0.66666667, 0.99215686, 0.99215686,\n",
       "        0.99215686, 0.99215686, 0.99215686, 0.88235294, 0.6745098 ,\n",
       "        0.99215686, 0.94901961, 0.76470588, 0.25098039, 0.        ,\n",
       "        0.        , 0.        , 0.        ],\n",
       "       [0.        , 0.        , 0.        , 0.        , 0.        ,\n",
       "        0.        , 0.        , 0.19215686, 0.93333333, 0.99215686,\n",
       "        0.99215686, 0.99215686, 0.99215686, 0.99215686, 0.99215686,\n",
       "        0.99215686, 0.99215686, 0.98431373, 0.36470588, 0.32156863,\n",
       "        0.32156863, 0.21960784, 0.15294118, 0.        , 0.        ,\n",
       "        0.        , 0.        , 0.        ],\n",
       "       [0.        , 0.        , 0.        , 0.        , 0.        ,\n",
       "        0.        , 0.        , 0.07058824, 0.85882353, 0.99215686,\n",
       "        0.99215686, 0.99215686, 0.99215686, 0.99215686, 0.77647059,\n",
       "        0.71372549, 0.96862745, 0.94509804, 0.        , 0.        ,\n",
       "        0.        , 0.        , 0.        , 0.        , 0.        ,\n",
       "        0.        , 0.        , 0.        ],\n",
       "       [0.        , 0.        , 0.        , 0.        , 0.        ,\n",
       "        0.        , 0.        , 0.        , 0.31372549, 0.61176471,\n",
       "        0.41960784, 0.99215686, 0.99215686, 0.80392157, 0.04313725,\n",
       "        0.        , 0.16862745, 0.60392157, 0.        , 0.        ,\n",
       "        0.        , 0.        , 0.        , 0.        , 0.        ,\n",
       "        0.        , 0.        , 0.        ],\n",
       "       [0.        , 0.        , 0.        , 0.        , 0.        ,\n",
       "        0.        , 0.        , 0.        , 0.        , 0.05490196,\n",
       "        0.00392157, 0.60392157, 0.99215686, 0.35294118, 0.        ,\n",
       "        0.        , 0.        , 0.        , 0.        , 0.        ,\n",
       "        0.        , 0.        , 0.        , 0.        , 0.        ,\n",
       "        0.        , 0.        , 0.        ],\n",
       "       [0.        , 0.        , 0.        , 0.        , 0.        ,\n",
       "        0.        , 0.        , 0.        , 0.        , 0.        ,\n",
       "        0.        , 0.54509804, 0.99215686, 0.74509804, 0.00784314,\n",
       "        0.        , 0.        , 0.        , 0.        , 0.        ,\n",
       "        0.        , 0.        , 0.        , 0.        , 0.        ,\n",
       "        0.        , 0.        , 0.        ],\n",
       "       [0.        , 0.        , 0.        , 0.        , 0.        ,\n",
       "        0.        , 0.        , 0.        , 0.        , 0.        ,\n",
       "        0.        , 0.04313725, 0.74509804, 0.99215686, 0.2745098 ,\n",
       "        0.        , 0.        , 0.        , 0.        , 0.        ,\n",
       "        0.        , 0.        , 0.        , 0.        , 0.        ,\n",
       "        0.        , 0.        , 0.        ],\n",
       "       [0.        , 0.        , 0.        , 0.        , 0.        ,\n",
       "        0.        , 0.        , 0.        , 0.        , 0.        ,\n",
       "        0.        , 0.        , 0.1372549 , 0.94509804, 0.88235294,\n",
       "        0.62745098, 0.42352941, 0.00392157, 0.        , 0.        ,\n",
       "        0.        , 0.        , 0.        , 0.        , 0.        ,\n",
       "        0.        , 0.        , 0.        ],\n",
       "       [0.        , 0.        , 0.        , 0.        , 0.        ,\n",
       "        0.        , 0.        , 0.        , 0.        , 0.        ,\n",
       "        0.        , 0.        , 0.        , 0.31764706, 0.94117647,\n",
       "        0.99215686, 0.99215686, 0.46666667, 0.09803922, 0.        ,\n",
       "        0.        , 0.        , 0.        , 0.        , 0.        ,\n",
       "        0.        , 0.        , 0.        ],\n",
       "       [0.        , 0.        , 0.        , 0.        , 0.        ,\n",
       "        0.        , 0.        , 0.        , 0.        , 0.        ,\n",
       "        0.        , 0.        , 0.        , 0.        , 0.17647059,\n",
       "        0.72941176, 0.99215686, 0.99215686, 0.58823529, 0.10588235,\n",
       "        0.        , 0.        , 0.        , 0.        , 0.        ,\n",
       "        0.        , 0.        , 0.        ],\n",
       "       [0.        , 0.        , 0.        , 0.        , 0.        ,\n",
       "        0.        , 0.        , 0.        , 0.        , 0.        ,\n",
       "        0.        , 0.        , 0.        , 0.        , 0.        ,\n",
       "        0.0627451 , 0.36470588, 0.98823529, 0.99215686, 0.73333333,\n",
       "        0.        , 0.        , 0.        , 0.        , 0.        ,\n",
       "        0.        , 0.        , 0.        ],\n",
       "       [0.        , 0.        , 0.        , 0.        , 0.        ,\n",
       "        0.        , 0.        , 0.        , 0.        , 0.        ,\n",
       "        0.        , 0.        , 0.        , 0.        , 0.        ,\n",
       "        0.        , 0.        , 0.97647059, 0.99215686, 0.97647059,\n",
       "        0.25098039, 0.        , 0.        , 0.        , 0.        ,\n",
       "        0.        , 0.        , 0.        ],\n",
       "       [0.        , 0.        , 0.        , 0.        , 0.        ,\n",
       "        0.        , 0.        , 0.        , 0.        , 0.        ,\n",
       "        0.        , 0.        , 0.        , 0.        , 0.18039216,\n",
       "        0.50980392, 0.71764706, 0.99215686, 0.99215686, 0.81176471,\n",
       "        0.00784314, 0.        , 0.        , 0.        , 0.        ,\n",
       "        0.        , 0.        , 0.        ],\n",
       "       [0.        , 0.        , 0.        , 0.        , 0.        ,\n",
       "        0.        , 0.        , 0.        , 0.        , 0.        ,\n",
       "        0.        , 0.        , 0.15294118, 0.58039216, 0.89803922,\n",
       "        0.99215686, 0.99215686, 0.99215686, 0.98039216, 0.71372549,\n",
       "        0.        , 0.        , 0.        , 0.        , 0.        ,\n",
       "        0.        , 0.        , 0.        ],\n",
       "       [0.        , 0.        , 0.        , 0.        , 0.        ,\n",
       "        0.        , 0.        , 0.        , 0.        , 0.        ,\n",
       "        0.09411765, 0.44705882, 0.86666667, 0.99215686, 0.99215686,\n",
       "        0.99215686, 0.99215686, 0.78823529, 0.30588235, 0.        ,\n",
       "        0.        , 0.        , 0.        , 0.        , 0.        ,\n",
       "        0.        , 0.        , 0.        ],\n",
       "       [0.        , 0.        , 0.        , 0.        , 0.        ,\n",
       "        0.        , 0.        , 0.        , 0.09019608, 0.25882353,\n",
       "        0.83529412, 0.99215686, 0.99215686, 0.99215686, 0.99215686,\n",
       "        0.77647059, 0.31764706, 0.00784314, 0.        , 0.        ,\n",
       "        0.        , 0.        , 0.        , 0.        , 0.        ,\n",
       "        0.        , 0.        , 0.        ],\n",
       "       [0.        , 0.        , 0.        , 0.        , 0.        ,\n",
       "        0.        , 0.07058824, 0.67058824, 0.85882353, 0.99215686,\n",
       "        0.99215686, 0.99215686, 0.99215686, 0.76470588, 0.31372549,\n",
       "        0.03529412, 0.        , 0.        , 0.        , 0.        ,\n",
       "        0.        , 0.        , 0.        , 0.        , 0.        ,\n",
       "        0.        , 0.        , 0.        ],\n",
       "       [0.        , 0.        , 0.        , 0.        , 0.21568627,\n",
       "        0.6745098 , 0.88627451, 0.99215686, 0.99215686, 0.99215686,\n",
       "        0.99215686, 0.95686275, 0.52156863, 0.04313725, 0.        ,\n",
       "        0.        , 0.        , 0.        , 0.        , 0.        ,\n",
       "        0.        , 0.        , 0.        , 0.        , 0.        ,\n",
       "        0.        , 0.        , 0.        ],\n",
       "       [0.        , 0.        , 0.        , 0.        , 0.53333333,\n",
       "        0.99215686, 0.99215686, 0.99215686, 0.83137255, 0.52941176,\n",
       "        0.51764706, 0.0627451 , 0.        , 0.        , 0.        ,\n",
       "        0.        , 0.        , 0.        , 0.        , 0.        ,\n",
       "        0.        , 0.        , 0.        , 0.        , 0.        ,\n",
       "        0.        , 0.        , 0.        ],\n",
       "       [0.        , 0.        , 0.        , 0.        , 0.        ,\n",
       "        0.        , 0.        , 0.        , 0.        , 0.        ,\n",
       "        0.        , 0.        , 0.        , 0.        , 0.        ,\n",
       "        0.        , 0.        , 0.        , 0.        , 0.        ,\n",
       "        0.        , 0.        , 0.        , 0.        , 0.        ,\n",
       "        0.        , 0.        , 0.        ],\n",
       "       [0.        , 0.        , 0.        , 0.        , 0.        ,\n",
       "        0.        , 0.        , 0.        , 0.        , 0.        ,\n",
       "        0.        , 0.        , 0.        , 0.        , 0.        ,\n",
       "        0.        , 0.        , 0.        , 0.        , 0.        ,\n",
       "        0.        , 0.        , 0.        , 0.        , 0.        ,\n",
       "        0.        , 0.        , 0.        ],\n",
       "       [0.        , 0.        , 0.        , 0.        , 0.        ,\n",
       "        0.        , 0.        , 0.        , 0.        , 0.        ,\n",
       "        0.        , 0.        , 0.        , 0.        , 0.        ,\n",
       "        0.        , 0.        , 0.        , 0.        , 0.        ,\n",
       "        0.        , 0.        , 0.        , 0.        , 0.        ,\n",
       "        0.        , 0.        , 0.        ]])"
      ]
     },
     "execution_count": 9,
     "metadata": {},
     "output_type": "execute_result"
    }
   ],
   "source": [
    "X_train[0]"
   ]
  },
  {
   "cell_type": "code",
   "execution_count": 10,
   "metadata": {
    "id": "jr78UU88Rzm6"
   },
   "outputs": [],
   "source": [
    "model = Sequential()\n",
    "\n",
    "model.add(Flatten(input_shape=(28,28)))\n",
    "model.add(Dense(128,activation='relu'))\n",
    "model.add(Dense(32,activation='relu'))\n",
    "model.add(Dense(10,activation='softmax'))"
   ]
  },
  {
   "cell_type": "code",
   "execution_count": 11,
   "metadata": {
    "colab": {
     "base_uri": "https://localhost:8080/"
    },
    "id": "ECogPfG5SmNI",
    "outputId": "e7de2bb0-d178-43de-e078-eecfec62f639"
   },
   "outputs": [
    {
     "name": "stdout",
     "output_type": "stream",
     "text": [
      "Model: \"sequential\"\n",
      "_________________________________________________________________\n",
      " Layer (type)                Output Shape              Param #   \n",
      "=================================================================\n",
      " flatten (Flatten)           (None, 784)               0         \n",
      "                                                                 \n",
      " dense (Dense)               (None, 128)               100480    \n",
      "                                                                 \n",
      " dense_1 (Dense)             (None, 32)                4128      \n",
      "                                                                 \n",
      " dense_2 (Dense)             (None, 10)                330       \n",
      "                                                                 \n",
      "=================================================================\n",
      "Total params: 104,938\n",
      "Trainable params: 104,938\n",
      "Non-trainable params: 0\n",
      "_________________________________________________________________\n"
     ]
    }
   ],
   "source": [
    "model.summary()"
   ]
  },
  {
   "cell_type": "code",
   "execution_count": 12,
   "metadata": {
    "id": "0yC51WgjSsLV"
   },
   "outputs": [],
   "source": [
    "model.compile(loss='sparse_categorical_crossentropy',optimizer='Adam',metrics=['accuracy'])"
   ]
  },
  {
   "cell_type": "code",
   "execution_count": 21,
   "metadata": {
    "colab": {
     "base_uri": "https://localhost:8080/"
    },
    "id": "L-fkwmIvWT8M",
    "outputId": "9d3e296b-fa73-410b-dd18-9fb2493ff4a7"
   },
   "outputs": [
    {
     "name": "stdout",
     "output_type": "stream",
     "text": [
      "Epoch 1/200\n",
      "1500/1500 [==============================] - 4s 3ms/step - loss: 0.0075 - accuracy: 0.9973 - val_loss: 0.1788 - val_accuracy: 0.9747\n",
      "Epoch 2/200\n",
      "1500/1500 [==============================] - 4s 3ms/step - loss: 0.0060 - accuracy: 0.9981 - val_loss: 0.1630 - val_accuracy: 0.9751\n",
      "Epoch 3/200\n",
      "1500/1500 [==============================] - 4s 3ms/step - loss: 0.0079 - accuracy: 0.9974 - val_loss: 0.1566 - val_accuracy: 0.9769\n",
      "Epoch 4/200\n",
      "1500/1500 [==============================] - 4s 3ms/step - loss: 0.0068 - accuracy: 0.9979 - val_loss: 0.1628 - val_accuracy: 0.9756\n",
      "Epoch 5/200\n",
      "1500/1500 [==============================] - 4s 3ms/step - loss: 0.0087 - accuracy: 0.9973 - val_loss: 0.1977 - val_accuracy: 0.9737\n",
      "Epoch 6/200\n",
      "1500/1500 [==============================] - 4s 3ms/step - loss: 0.0075 - accuracy: 0.9977 - val_loss: 0.1738 - val_accuracy: 0.9751\n",
      "Epoch 7/200\n",
      "1500/1500 [==============================] - 5s 3ms/step - loss: 0.0059 - accuracy: 0.9980 - val_loss: 0.1704 - val_accuracy: 0.9762\n",
      "Epoch 8/200\n",
      "1500/1500 [==============================] - 4s 3ms/step - loss: 0.0086 - accuracy: 0.9973 - val_loss: 0.1653 - val_accuracy: 0.9757\n",
      "Epoch 9/200\n",
      "1500/1500 [==============================] - 4s 3ms/step - loss: 0.0056 - accuracy: 0.9983 - val_loss: 0.1467 - val_accuracy: 0.9776\n",
      "Epoch 10/200\n",
      "1500/1500 [==============================] - 4s 3ms/step - loss: 0.0092 - accuracy: 0.9975 - val_loss: 0.1614 - val_accuracy: 0.9759\n",
      "Epoch 11/200\n",
      "1500/1500 [==============================] - 5s 3ms/step - loss: 0.0055 - accuracy: 0.9984 - val_loss: 0.1858 - val_accuracy: 0.9745\n",
      "Epoch 12/200\n",
      "1500/1500 [==============================] - 5s 3ms/step - loss: 0.0050 - accuracy: 0.9985 - val_loss: 0.1914 - val_accuracy: 0.9753\n",
      "Epoch 13/200\n",
      "1500/1500 [==============================] - 5s 3ms/step - loss: 0.0060 - accuracy: 0.9981 - val_loss: 0.2393 - val_accuracy: 0.9690\n",
      "Epoch 14/200\n",
      "1500/1500 [==============================] - 5s 3ms/step - loss: 0.0057 - accuracy: 0.9981 - val_loss: 0.1838 - val_accuracy: 0.9778\n",
      "Epoch 15/200\n",
      "1500/1500 [==============================] - 4s 3ms/step - loss: 0.0063 - accuracy: 0.9977 - val_loss: 0.1722 - val_accuracy: 0.9792\n",
      "Epoch 16/200\n",
      "1500/1500 [==============================] - 5s 3ms/step - loss: 0.0065 - accuracy: 0.9980 - val_loss: 0.2038 - val_accuracy: 0.9755\n",
      "Epoch 17/200\n",
      "1500/1500 [==============================] - 5s 3ms/step - loss: 0.0038 - accuracy: 0.9987 - val_loss: 0.2161 - val_accuracy: 0.9728\n",
      "Epoch 18/200\n",
      "1500/1500 [==============================] - 5s 3ms/step - loss: 0.0086 - accuracy: 0.9974 - val_loss: 0.2000 - val_accuracy: 0.9764\n",
      "Epoch 19/200\n",
      "1500/1500 [==============================] - 5s 3ms/step - loss: 0.0033 - accuracy: 0.9990 - val_loss: 0.1747 - val_accuracy: 0.9778\n",
      "Epoch 20/200\n",
      "1500/1500 [==============================] - 5s 3ms/step - loss: 0.0067 - accuracy: 0.9983 - val_loss: 0.2335 - val_accuracy: 0.9749\n",
      "Epoch 21/200\n",
      "1500/1500 [==============================] - 5s 3ms/step - loss: 0.0071 - accuracy: 0.9977 - val_loss: 0.1909 - val_accuracy: 0.9766\n",
      "Epoch 22/200\n",
      "1500/1500 [==============================] - 5s 3ms/step - loss: 0.0049 - accuracy: 0.9984 - val_loss: 0.2779 - val_accuracy: 0.9685\n",
      "Epoch 23/200\n",
      "1500/1500 [==============================] - 4s 3ms/step - loss: 0.0057 - accuracy: 0.9982 - val_loss: 0.1942 - val_accuracy: 0.9766\n",
      "Epoch 24/200\n",
      "1500/1500 [==============================] - 5s 3ms/step - loss: 0.0038 - accuracy: 0.9991 - val_loss: 0.2213 - val_accuracy: 0.9746\n",
      "Epoch 25/200\n",
      "1500/1500 [==============================] - 5s 3ms/step - loss: 0.0073 - accuracy: 0.9977 - val_loss: 0.2046 - val_accuracy: 0.9770\n",
      "Epoch 26/200\n",
      "1500/1500 [==============================] - 4s 3ms/step - loss: 0.0050 - accuracy: 0.9986 - val_loss: 0.1859 - val_accuracy: 0.9783\n",
      "Epoch 27/200\n",
      "1500/1500 [==============================] - 4s 3ms/step - loss: 0.0052 - accuracy: 0.9983 - val_loss: 0.2061 - val_accuracy: 0.9755\n",
      "Epoch 28/200\n",
      "1500/1500 [==============================] - 4s 3ms/step - loss: 0.0039 - accuracy: 0.9986 - val_loss: 0.1955 - val_accuracy: 0.9758\n",
      "Epoch 29/200\n",
      "1500/1500 [==============================] - 4s 3ms/step - loss: 0.0058 - accuracy: 0.9983 - val_loss: 0.2128 - val_accuracy: 0.9763\n",
      "Epoch 30/200\n",
      "1500/1500 [==============================] - 4s 3ms/step - loss: 0.0052 - accuracy: 0.9984 - val_loss: 0.2261 - val_accuracy: 0.9745\n",
      "Epoch 31/200\n",
      "1500/1500 [==============================] - 4s 3ms/step - loss: 0.0024 - accuracy: 0.9993 - val_loss: 0.2084 - val_accuracy: 0.9791\n",
      "Epoch 32/200\n",
      "1500/1500 [==============================] - 4s 3ms/step - loss: 0.0048 - accuracy: 0.9985 - val_loss: 0.2074 - val_accuracy: 0.9775\n",
      "Epoch 33/200\n",
      "1500/1500 [==============================] - 5s 3ms/step - loss: 0.0061 - accuracy: 0.9984 - val_loss: 0.2088 - val_accuracy: 0.9765\n",
      "Epoch 34/200\n",
      "1500/1500 [==============================] - 4s 3ms/step - loss: 0.0048 - accuracy: 0.9985 - val_loss: 0.2269 - val_accuracy: 0.9761\n",
      "Epoch 35/200\n",
      "1500/1500 [==============================] - 5s 3ms/step - loss: 0.0051 - accuracy: 0.9986 - val_loss: 0.2350 - val_accuracy: 0.9740\n",
      "Epoch 36/200\n",
      "1500/1500 [==============================] - 5s 3ms/step - loss: 0.0063 - accuracy: 0.9982 - val_loss: 0.2379 - val_accuracy: 0.9751\n",
      "Epoch 37/200\n",
      "1500/1500 [==============================] - 5s 3ms/step - loss: 0.0042 - accuracy: 0.9987 - val_loss: 0.2318 - val_accuracy: 0.9757\n",
      "Epoch 38/200\n",
      "1500/1500 [==============================] - 5s 3ms/step - loss: 0.0034 - accuracy: 0.9991 - val_loss: 0.2228 - val_accuracy: 0.9774\n",
      "Epoch 39/200\n",
      "1500/1500 [==============================] - 4s 3ms/step - loss: 0.0046 - accuracy: 0.9986 - val_loss: 0.2337 - val_accuracy: 0.9770\n",
      "Epoch 40/200\n",
      "1500/1500 [==============================] - 5s 3ms/step - loss: 0.0055 - accuracy: 0.9985 - val_loss: 0.2552 - val_accuracy: 0.9756\n",
      "Epoch 41/200\n",
      "1500/1500 [==============================] - 4s 3ms/step - loss: 0.0077 - accuracy: 0.9977 - val_loss: 0.2639 - val_accuracy: 0.9741\n",
      "Epoch 42/200\n",
      "1500/1500 [==============================] - 4s 3ms/step - loss: 0.0039 - accuracy: 0.9989 - val_loss: 0.2741 - val_accuracy: 0.9728\n",
      "Epoch 43/200\n",
      "1500/1500 [==============================] - 5s 3ms/step - loss: 0.0051 - accuracy: 0.9987 - val_loss: 0.2712 - val_accuracy: 0.9763\n",
      "Epoch 44/200\n",
      "1500/1500 [==============================] - 4s 3ms/step - loss: 0.0035 - accuracy: 0.9990 - val_loss: 0.2572 - val_accuracy: 0.9780\n",
      "Epoch 45/200\n",
      "1500/1500 [==============================] - 4s 3ms/step - loss: 0.0063 - accuracy: 0.9986 - val_loss: 0.2576 - val_accuracy: 0.9757\n",
      "Epoch 46/200\n",
      "1500/1500 [==============================] - 4s 3ms/step - loss: 0.0050 - accuracy: 0.9987 - val_loss: 0.2584 - val_accuracy: 0.9779\n",
      "Epoch 47/200\n",
      "1500/1500 [==============================] - 4s 3ms/step - loss: 0.0041 - accuracy: 0.9989 - val_loss: 0.2501 - val_accuracy: 0.9771\n",
      "Epoch 48/200\n",
      "1500/1500 [==============================] - 4s 3ms/step - loss: 0.0032 - accuracy: 0.9989 - val_loss: 0.2440 - val_accuracy: 0.9765\n",
      "Epoch 49/200\n",
      "1500/1500 [==============================] - 5s 3ms/step - loss: 0.0043 - accuracy: 0.9988 - val_loss: 0.2395 - val_accuracy: 0.9772\n",
      "Epoch 50/200\n",
      "1500/1500 [==============================] - 5s 3ms/step - loss: 0.0065 - accuracy: 0.9986 - val_loss: 0.2454 - val_accuracy: 0.9772\n",
      "Epoch 51/200\n",
      "1500/1500 [==============================] - 5s 3ms/step - loss: 0.0055 - accuracy: 0.9986 - val_loss: 0.2417 - val_accuracy: 0.9766\n",
      "Epoch 52/200\n",
      "1500/1500 [==============================] - 4s 3ms/step - loss: 0.0044 - accuracy: 0.9987 - val_loss: 0.2595 - val_accuracy: 0.9768\n",
      "Epoch 53/200\n",
      "1500/1500 [==============================] - 4s 3ms/step - loss: 0.0037 - accuracy: 0.9989 - val_loss: 0.2657 - val_accuracy: 0.9757\n",
      "Epoch 54/200\n",
      "1500/1500 [==============================] - 4s 3ms/step - loss: 0.0048 - accuracy: 0.9986 - val_loss: 0.2745 - val_accuracy: 0.9773\n",
      "Epoch 55/200\n",
      "1500/1500 [==============================] - 5s 3ms/step - loss: 0.0031 - accuracy: 0.9992 - val_loss: 0.2643 - val_accuracy: 0.9769\n",
      "Epoch 56/200\n",
      "1500/1500 [==============================] - 5s 3ms/step - loss: 0.0066 - accuracy: 0.9987 - val_loss: 0.2779 - val_accuracy: 0.9758\n",
      "Epoch 57/200\n"
     ]
    },
    {
     "name": "stdout",
     "output_type": "stream",
     "text": [
      "1500/1500 [==============================] - 5s 3ms/step - loss: 0.0055 - accuracy: 0.9986 - val_loss: 0.2481 - val_accuracy: 0.9780\n",
      "Epoch 58/200\n",
      "1500/1500 [==============================] - 4s 3ms/step - loss: 0.0040 - accuracy: 0.9990 - val_loss: 0.2901 - val_accuracy: 0.9735\n",
      "Epoch 59/200\n",
      "1500/1500 [==============================] - 4s 3ms/step - loss: 0.0054 - accuracy: 0.9986 - val_loss: 0.2641 - val_accuracy: 0.9778\n",
      "Epoch 60/200\n",
      "1500/1500 [==============================] - 5s 3ms/step - loss: 0.0056 - accuracy: 0.9985 - val_loss: 0.2885 - val_accuracy: 0.9753\n",
      "Epoch 61/200\n",
      "1500/1500 [==============================] - 5s 3ms/step - loss: 0.0044 - accuracy: 0.9988 - val_loss: 0.2670 - val_accuracy: 0.9756\n",
      "Epoch 62/200\n",
      "1500/1500 [==============================] - 5s 3ms/step - loss: 0.0022 - accuracy: 0.9994 - val_loss: 0.2538 - val_accuracy: 0.9772\n",
      "Epoch 63/200\n",
      "1500/1500 [==============================] - 5s 3ms/step - loss: 0.0055 - accuracy: 0.9985 - val_loss: 0.2895 - val_accuracy: 0.9745\n",
      "Epoch 64/200\n",
      "1500/1500 [==============================] - 5s 3ms/step - loss: 0.0031 - accuracy: 0.9993 - val_loss: 0.2978 - val_accuracy: 0.9761\n",
      "Epoch 65/200\n",
      "1500/1500 [==============================] - 5s 3ms/step - loss: 0.0045 - accuracy: 0.9990 - val_loss: 0.2731 - val_accuracy: 0.9760\n",
      "Epoch 66/200\n",
      "1500/1500 [==============================] - 4s 3ms/step - loss: 0.0057 - accuracy: 0.9990 - val_loss: 0.3962 - val_accuracy: 0.9699\n",
      "Epoch 67/200\n",
      "1500/1500 [==============================] - 4s 3ms/step - loss: 0.0020 - accuracy: 0.9995 - val_loss: 0.2536 - val_accuracy: 0.9775\n",
      "Epoch 68/200\n",
      "1500/1500 [==============================] - 4s 3ms/step - loss: 5.4118e-05 - accuracy: 1.0000 - val_loss: 0.2511 - val_accuracy: 0.9776\n",
      "Epoch 69/200\n",
      "1500/1500 [==============================] - 4s 3ms/step - loss: 2.2644e-05 - accuracy: 1.0000 - val_loss: 0.2451 - val_accuracy: 0.9791\n",
      "Epoch 70/200\n",
      "1500/1500 [==============================] - 4s 3ms/step - loss: 2.7283e-06 - accuracy: 1.0000 - val_loss: 0.2451 - val_accuracy: 0.9786\n",
      "Epoch 71/200\n",
      "1500/1500 [==============================] - 4s 3ms/step - loss: 9.9949e-07 - accuracy: 1.0000 - val_loss: 0.2453 - val_accuracy: 0.9789\n",
      "Epoch 72/200\n",
      "1500/1500 [==============================] - 4s 3ms/step - loss: 6.4546e-07 - accuracy: 1.0000 - val_loss: 0.2449 - val_accuracy: 0.9787\n",
      "Epoch 73/200\n",
      "1500/1500 [==============================] - 4s 3ms/step - loss: 4.1591e-07 - accuracy: 1.0000 - val_loss: 0.2450 - val_accuracy: 0.9788\n",
      "Epoch 74/200\n",
      "1500/1500 [==============================] - 4s 3ms/step - loss: 2.5733e-07 - accuracy: 1.0000 - val_loss: 0.2449 - val_accuracy: 0.9790\n",
      "Epoch 75/200\n",
      "1500/1500 [==============================] - 4s 3ms/step - loss: 1.5037e-07 - accuracy: 1.0000 - val_loss: 0.2463 - val_accuracy: 0.9790\n",
      "Epoch 76/200\n",
      "1500/1500 [==============================] - 4s 3ms/step - loss: 8.9111e-08 - accuracy: 1.0000 - val_loss: 0.2474 - val_accuracy: 0.9791\n",
      "Epoch 77/200\n",
      "1500/1500 [==============================] - 4s 3ms/step - loss: 5.0587e-08 - accuracy: 1.0000 - val_loss: 0.2497 - val_accuracy: 0.9796\n",
      "Epoch 78/200\n",
      "1500/1500 [==============================] - 5s 3ms/step - loss: 2.8161e-08 - accuracy: 1.0000 - val_loss: 0.2510 - val_accuracy: 0.9797\n",
      "Epoch 79/200\n",
      "1500/1500 [==============================] - 5s 3ms/step - loss: 1.5147e-08 - accuracy: 1.0000 - val_loss: 0.2532 - val_accuracy: 0.9796\n",
      "Epoch 80/200\n",
      "1500/1500 [==============================] - 5s 3ms/step - loss: 0.0099 - accuracy: 0.9982 - val_loss: 0.3207 - val_accuracy: 0.9751\n",
      "Epoch 81/200\n",
      "1500/1500 [==============================] - 5s 3ms/step - loss: 0.0039 - accuracy: 0.9989 - val_loss: 0.3007 - val_accuracy: 0.9779\n",
      "Epoch 82/200\n",
      "1500/1500 [==============================] - 4s 3ms/step - loss: 0.0051 - accuracy: 0.9988 - val_loss: 0.3128 - val_accuracy: 0.9761\n",
      "Epoch 83/200\n",
      "1500/1500 [==============================] - 5s 3ms/step - loss: 0.0033 - accuracy: 0.9991 - val_loss: 0.3066 - val_accuracy: 0.9756\n",
      "Epoch 84/200\n",
      "1500/1500 [==============================] - 4s 3ms/step - loss: 0.0028 - accuracy: 0.9992 - val_loss: 0.2977 - val_accuracy: 0.9772\n",
      "Epoch 85/200\n",
      "1500/1500 [==============================] - 5s 3ms/step - loss: 0.0064 - accuracy: 0.9985 - val_loss: 0.3254 - val_accuracy: 0.9761\n",
      "Epoch 86/200\n",
      "1500/1500 [==============================] - 5s 3ms/step - loss: 0.0045 - accuracy: 0.9989 - val_loss: 0.3176 - val_accuracy: 0.9774\n",
      "Epoch 87/200\n",
      "1500/1500 [==============================] - 5s 3ms/step - loss: 0.0048 - accuracy: 0.9989 - val_loss: 0.3132 - val_accuracy: 0.9778\n",
      "Epoch 88/200\n",
      "1500/1500 [==============================] - 5s 3ms/step - loss: 0.0043 - accuracy: 0.9989 - val_loss: 0.3306 - val_accuracy: 0.9770\n",
      "Epoch 89/200\n",
      "1500/1500 [==============================] - 5s 3ms/step - loss: 0.0039 - accuracy: 0.9991 - val_loss: 0.3543 - val_accuracy: 0.9766\n",
      "Epoch 90/200\n",
      "1500/1500 [==============================] - 4s 3ms/step - loss: 0.0045 - accuracy: 0.9990 - val_loss: 0.3456 - val_accuracy: 0.9767\n",
      "Epoch 91/200\n",
      "1500/1500 [==============================] - 4s 3ms/step - loss: 0.0036 - accuracy: 0.9992 - val_loss: 0.3427 - val_accuracy: 0.9767\n",
      "Epoch 92/200\n",
      "1500/1500 [==============================] - 4s 3ms/step - loss: 0.0049 - accuracy: 0.9990 - val_loss: 0.3114 - val_accuracy: 0.9782\n",
      "Epoch 93/200\n",
      "1500/1500 [==============================] - 5s 3ms/step - loss: 0.0061 - accuracy: 0.9986 - val_loss: 0.3283 - val_accuracy: 0.9768\n",
      "Epoch 94/200\n",
      "1500/1500 [==============================] - 5s 3ms/step - loss: 0.0062 - accuracy: 0.9989 - val_loss: 0.3317 - val_accuracy: 0.9757\n",
      "Epoch 95/200\n",
      "1500/1500 [==============================] - 4s 3ms/step - loss: 0.0041 - accuracy: 0.9992 - val_loss: 0.3162 - val_accuracy: 0.9778\n",
      "Epoch 96/200\n",
      "1500/1500 [==============================] - 5s 3ms/step - loss: 0.0051 - accuracy: 0.9988 - val_loss: 0.3339 - val_accuracy: 0.9765\n",
      "Epoch 97/200\n",
      "1500/1500 [==============================] - 5s 3ms/step - loss: 0.0025 - accuracy: 0.9992 - val_loss: 0.3081 - val_accuracy: 0.9797\n",
      "Epoch 98/200\n",
      "1500/1500 [==============================] - 5s 3ms/step - loss: 0.0030 - accuracy: 0.9993 - val_loss: 0.3596 - val_accuracy: 0.9757\n",
      "Epoch 99/200\n",
      "1500/1500 [==============================] - 5s 3ms/step - loss: 0.0033 - accuracy: 0.9991 - val_loss: 0.3142 - val_accuracy: 0.9782\n",
      "Epoch 100/200\n",
      "1500/1500 [==============================] - 5s 3ms/step - loss: 0.0038 - accuracy: 0.9991 - val_loss: 0.3362 - val_accuracy: 0.9762\n",
      "Epoch 101/200\n",
      "1500/1500 [==============================] - 5s 3ms/step - loss: 0.0051 - accuracy: 0.9990 - val_loss: 0.3300 - val_accuracy: 0.9782\n",
      "Epoch 102/200\n",
      "1500/1500 [==============================] - 5s 3ms/step - loss: 0.0041 - accuracy: 0.9991 - val_loss: 0.3097 - val_accuracy: 0.9768\n",
      "Epoch 103/200\n",
      "1500/1500 [==============================] - 5s 3ms/step - loss: 0.0038 - accuracy: 0.9992 - val_loss: 0.3063 - val_accuracy: 0.9780\n",
      "Epoch 104/200\n",
      "1500/1500 [==============================] - 5s 3ms/step - loss: 0.0036 - accuracy: 0.9992 - val_loss: 0.3249 - val_accuracy: 0.9774\n",
      "Epoch 105/200\n",
      "1500/1500 [==============================] - 5s 3ms/step - loss: 0.0038 - accuracy: 0.9990 - val_loss: 0.3486 - val_accuracy: 0.9774\n",
      "Epoch 106/200\n",
      "1500/1500 [==============================] - 5s 3ms/step - loss: 0.0027 - accuracy: 0.9994 - val_loss: 0.3620 - val_accuracy: 0.9752\n",
      "Epoch 107/200\n",
      "1500/1500 [==============================] - 5s 4ms/step - loss: 0.0046 - accuracy: 0.9989 - val_loss: 0.3371 - val_accuracy: 0.9777\n",
      "Epoch 108/200\n",
      "1500/1500 [==============================] - 5s 3ms/step - loss: 0.0042 - accuracy: 0.9992 - val_loss: 0.3570 - val_accuracy: 0.9756\n",
      "Epoch 109/200\n",
      "1500/1500 [==============================] - 5s 3ms/step - loss: 0.0040 - accuracy: 0.9989 - val_loss: 0.3378 - val_accuracy: 0.9776\n",
      "Epoch 110/200\n",
      "1500/1500 [==============================] - 5s 3ms/step - loss: 0.0036 - accuracy: 0.9990 - val_loss: 0.3521 - val_accuracy: 0.9771\n",
      "Epoch 111/200\n",
      "1500/1500 [==============================] - 5s 3ms/step - loss: 0.0044 - accuracy: 0.9991 - val_loss: 0.3598 - val_accuracy: 0.9783\n",
      "Epoch 112/200\n",
      "1500/1500 [==============================] - 5s 3ms/step - loss: 0.0021 - accuracy: 0.9995 - val_loss: 0.3676 - val_accuracy: 0.9777\n"
     ]
    },
    {
     "name": "stdout",
     "output_type": "stream",
     "text": [
      "Epoch 113/200\n",
      "1500/1500 [==============================] - 5s 3ms/step - loss: 0.0038 - accuracy: 0.9992 - val_loss: 0.3649 - val_accuracy: 0.9770\n",
      "Epoch 114/200\n",
      "1500/1500 [==============================] - 5s 3ms/step - loss: 0.0046 - accuracy: 0.9990 - val_loss: 0.3971 - val_accuracy: 0.9733\n",
      "Epoch 115/200\n",
      "1500/1500 [==============================] - 5s 3ms/step - loss: 0.0036 - accuracy: 0.9991 - val_loss: 0.4303 - val_accuracy: 0.9740\n",
      "Epoch 116/200\n",
      "1500/1500 [==============================] - 5s 3ms/step - loss: 0.0051 - accuracy: 0.9989 - val_loss: 0.3620 - val_accuracy: 0.9762\n",
      "Epoch 117/200\n",
      "1500/1500 [==============================] - 5s 3ms/step - loss: 0.0047 - accuracy: 0.9990 - val_loss: 0.3548 - val_accuracy: 0.9777\n",
      "Epoch 118/200\n",
      "1500/1500 [==============================] - 5s 3ms/step - loss: 0.0019 - accuracy: 0.9995 - val_loss: 0.3217 - val_accuracy: 0.9783\n",
      "Epoch 119/200\n",
      "1500/1500 [==============================] - 5s 3ms/step - loss: 0.0016 - accuracy: 0.9996 - val_loss: 0.3486 - val_accuracy: 0.9763\n",
      "Epoch 120/200\n",
      "1500/1500 [==============================] - 5s 3ms/step - loss: 0.0047 - accuracy: 0.9992 - val_loss: 0.3695 - val_accuracy: 0.9773\n",
      "Epoch 121/200\n",
      "1500/1500 [==============================] - 5s 3ms/step - loss: 0.0052 - accuracy: 0.9989 - val_loss: 0.3456 - val_accuracy: 0.9778\n",
      "Epoch 122/200\n",
      "1500/1500 [==============================] - 5s 3ms/step - loss: 0.0055 - accuracy: 0.9988 - val_loss: 0.3779 - val_accuracy: 0.9759\n",
      "Epoch 123/200\n",
      "1500/1500 [==============================] - 5s 3ms/step - loss: 9.3866e-04 - accuracy: 0.9998 - val_loss: 0.3477 - val_accuracy: 0.9776\n",
      "Epoch 124/200\n",
      "1500/1500 [==============================] - 5s 3ms/step - loss: 8.8884e-05 - accuracy: 1.0000 - val_loss: 0.3468 - val_accuracy: 0.9783\n",
      "Epoch 125/200\n",
      "1500/1500 [==============================] - 5s 3ms/step - loss: 0.0028 - accuracy: 0.9995 - val_loss: 0.3943 - val_accuracy: 0.9753\n",
      "Epoch 126/200\n",
      "1500/1500 [==============================] - 5s 3ms/step - loss: 0.0070 - accuracy: 0.9985 - val_loss: 0.3406 - val_accuracy: 0.9786\n",
      "Epoch 127/200\n",
      "1500/1500 [==============================] - 5s 3ms/step - loss: 0.0054 - accuracy: 0.9990 - val_loss: 0.3364 - val_accuracy: 0.9786\n",
      "Epoch 128/200\n",
      "1500/1500 [==============================] - 5s 3ms/step - loss: 8.2895e-04 - accuracy: 0.9998 - val_loss: 0.3856 - val_accuracy: 0.9766\n",
      "Epoch 129/200\n",
      "1500/1500 [==============================] - 5s 3ms/step - loss: 0.0013 - accuracy: 0.9996 - val_loss: 0.3693 - val_accuracy: 0.9778\n",
      "Epoch 130/200\n",
      "1500/1500 [==============================] - 5s 3ms/step - loss: 0.0052 - accuracy: 0.9990 - val_loss: 0.3764 - val_accuracy: 0.9778\n",
      "Epoch 131/200\n",
      "1500/1500 [==============================] - 5s 3ms/step - loss: 0.0057 - accuracy: 0.9991 - val_loss: 0.3530 - val_accuracy: 0.9782\n",
      "Epoch 132/200\n",
      "1500/1500 [==============================] - 5s 3ms/step - loss: 0.0040 - accuracy: 0.9993 - val_loss: 0.3365 - val_accuracy: 0.9791\n",
      "Epoch 133/200\n",
      "1500/1500 [==============================] - 5s 3ms/step - loss: 0.0033 - accuracy: 0.9993 - val_loss: 0.3882 - val_accuracy: 0.9777\n",
      "Epoch 134/200\n",
      "1500/1500 [==============================] - 5s 3ms/step - loss: 0.0028 - accuracy: 0.9992 - val_loss: 0.3958 - val_accuracy: 0.9774\n",
      "Epoch 135/200\n",
      "1500/1500 [==============================] - 5s 3ms/step - loss: 0.0023 - accuracy: 0.9994 - val_loss: 0.4854 - val_accuracy: 0.9733\n",
      "Epoch 136/200\n",
      "1500/1500 [==============================] - 5s 3ms/step - loss: 0.0044 - accuracy: 0.9990 - val_loss: 0.3944 - val_accuracy: 0.9765\n",
      "Epoch 137/200\n",
      "1500/1500 [==============================] - 5s 3ms/step - loss: 6.8100e-04 - accuracy: 0.9999 - val_loss: 0.3884 - val_accuracy: 0.9773\n",
      "Epoch 138/200\n",
      "1500/1500 [==============================] - 5s 3ms/step - loss: 0.0040 - accuracy: 0.9992 - val_loss: 0.3664 - val_accuracy: 0.9778\n",
      "Epoch 139/200\n",
      "1500/1500 [==============================] - 5s 3ms/step - loss: 0.0023 - accuracy: 0.9993 - val_loss: 0.4065 - val_accuracy: 0.9773\n",
      "Epoch 140/200\n",
      "1500/1500 [==============================] - 5s 3ms/step - loss: 0.0012 - accuracy: 0.9997 - val_loss: 0.4280 - val_accuracy: 0.9759\n",
      "Epoch 141/200\n",
      "1500/1500 [==============================] - 5s 3ms/step - loss: 0.0051 - accuracy: 0.9990 - val_loss: 0.4733 - val_accuracy: 0.9740\n",
      "Epoch 142/200\n",
      "1500/1500 [==============================] - 5s 3ms/step - loss: 0.0046 - accuracy: 0.9991 - val_loss: 0.4118 - val_accuracy: 0.9769\n",
      "Epoch 143/200\n",
      "1500/1500 [==============================] - 5s 3ms/step - loss: 0.0032 - accuracy: 0.9992 - val_loss: 0.4044 - val_accuracy: 0.9760\n",
      "Epoch 144/200\n",
      "1500/1500 [==============================] - 5s 3ms/step - loss: 0.0038 - accuracy: 0.9994 - val_loss: 0.4110 - val_accuracy: 0.9772\n",
      "Epoch 145/200\n",
      "1500/1500 [==============================] - 6s 4ms/step - loss: 0.0029 - accuracy: 0.9994 - val_loss: 0.4179 - val_accuracy: 0.9772\n",
      "Epoch 146/200\n",
      "1500/1500 [==============================] - 5s 4ms/step - loss: 0.0040 - accuracy: 0.9991 - val_loss: 0.4442 - val_accuracy: 0.9765\n",
      "Epoch 147/200\n",
      "1500/1500 [==============================] - 5s 3ms/step - loss: 0.0044 - accuracy: 0.9991 - val_loss: 0.4492 - val_accuracy: 0.9767\n",
      "Epoch 148/200\n",
      "1500/1500 [==============================] - 5s 3ms/step - loss: 0.0038 - accuracy: 0.9993 - val_loss: 0.4036 - val_accuracy: 0.9772\n",
      "Epoch 149/200\n",
      "1500/1500 [==============================] - 5s 3ms/step - loss: 0.0026 - accuracy: 0.9995 - val_loss: 0.3908 - val_accuracy: 0.9773\n",
      "Epoch 150/200\n",
      "1500/1500 [==============================] - 5s 3ms/step - loss: 0.0019 - accuracy: 0.9995 - val_loss: 0.4094 - val_accuracy: 0.9779\n",
      "Epoch 151/200\n",
      "1500/1500 [==============================] - 4s 3ms/step - loss: 0.0052 - accuracy: 0.9989 - val_loss: 0.4476 - val_accuracy: 0.9763\n",
      "Epoch 152/200\n",
      "1500/1500 [==============================] - 5s 3ms/step - loss: 0.0038 - accuracy: 0.9995 - val_loss: 0.4004 - val_accuracy: 0.9782\n",
      "Epoch 153/200\n",
      "1500/1500 [==============================] - 4s 3ms/step - loss: 0.0022 - accuracy: 0.9995 - val_loss: 0.4817 - val_accuracy: 0.9733\n",
      "Epoch 154/200\n",
      "1500/1500 [==============================] - 4s 3ms/step - loss: 0.0052 - accuracy: 0.9990 - val_loss: 0.4582 - val_accuracy: 0.9752\n",
      "Epoch 155/200\n",
      "1500/1500 [==============================] - 4s 3ms/step - loss: 0.0055 - accuracy: 0.9992 - val_loss: 0.3949 - val_accuracy: 0.9787\n",
      "Epoch 156/200\n",
      "1500/1500 [==============================] - 4s 3ms/step - loss: 0.0030 - accuracy: 0.9993 - val_loss: 0.4300 - val_accuracy: 0.9775\n",
      "Epoch 157/200\n",
      "1500/1500 [==============================] - 4s 3ms/step - loss: 0.0021 - accuracy: 0.9995 - val_loss: 0.4488 - val_accuracy: 0.9771\n",
      "Epoch 158/200\n",
      "1500/1500 [==============================] - 131s 87ms/step - loss: 0.0061 - accuracy: 0.9987 - val_loss: 0.4203 - val_accuracy: 0.9768\n",
      "Epoch 159/200\n",
      "1500/1500 [==============================] - 5s 3ms/step - loss: 0.0035 - accuracy: 0.9994 - val_loss: 0.3731 - val_accuracy: 0.9772\n",
      "Epoch 160/200\n",
      "1500/1500 [==============================] - 4s 3ms/step - loss: 0.0022 - accuracy: 0.9995 - val_loss: 0.4131 - val_accuracy: 0.9778\n",
      "Epoch 161/200\n",
      "1500/1500 [==============================] - 4s 3ms/step - loss: 0.0037 - accuracy: 0.9993 - val_loss: 0.4283 - val_accuracy: 0.9768\n",
      "Epoch 162/200\n",
      "1500/1500 [==============================] - 5s 4ms/step - loss: 0.0030 - accuracy: 0.9994 - val_loss: 0.4448 - val_accuracy: 0.9775\n",
      "Epoch 163/200\n",
      "1500/1500 [==============================] - 5s 3ms/step - loss: 0.0037 - accuracy: 0.9993 - val_loss: 0.4257 - val_accuracy: 0.9770\n",
      "Epoch 164/200\n",
      "1500/1500 [==============================] - 5s 3ms/step - loss: 0.0032 - accuracy: 0.9994 - val_loss: 0.4300 - val_accuracy: 0.9762\n",
      "Epoch 165/200\n",
      "1500/1500 [==============================] - 5s 3ms/step - loss: 0.0029 - accuracy: 0.9994 - val_loss: 0.4561 - val_accuracy: 0.9760\n",
      "Epoch 166/200\n",
      "1500/1500 [==============================] - 4s 3ms/step - loss: 0.0026 - accuracy: 0.9996 - val_loss: 0.4630 - val_accuracy: 0.9756\n",
      "Epoch 167/200\n",
      "1500/1500 [==============================] - 4s 3ms/step - loss: 0.0046 - accuracy: 0.9993 - val_loss: 0.4255 - val_accuracy: 0.9753\n",
      "Epoch 168/200\n"
     ]
    },
    {
     "name": "stdout",
     "output_type": "stream",
     "text": [
      "1500/1500 [==============================] - 4s 3ms/step - loss: 0.0037 - accuracy: 0.9992 - val_loss: 0.4170 - val_accuracy: 0.9761\n",
      "Epoch 169/200\n",
      "1500/1500 [==============================] - 4s 3ms/step - loss: 0.0031 - accuracy: 0.9994 - val_loss: 0.4295 - val_accuracy: 0.9750\n",
      "Epoch 170/200\n",
      "1500/1500 [==============================] - 5s 3ms/step - loss: 0.0023 - accuracy: 0.9995 - val_loss: 0.4429 - val_accuracy: 0.9759\n",
      "Epoch 171/200\n",
      "1500/1500 [==============================] - 5s 3ms/step - loss: 0.0027 - accuracy: 0.9996 - val_loss: 0.4220 - val_accuracy: 0.9782\n",
      "Epoch 172/200\n",
      "1500/1500 [==============================] - 5s 3ms/step - loss: 0.0041 - accuracy: 0.9992 - val_loss: 0.4695 - val_accuracy: 0.9743\n",
      "Epoch 173/200\n",
      "1500/1500 [==============================] - 5s 3ms/step - loss: 0.0047 - accuracy: 0.9993 - val_loss: 0.4511 - val_accuracy: 0.9759\n",
      "Epoch 174/200\n",
      "1500/1500 [==============================] - 4s 3ms/step - loss: 0.0021 - accuracy: 0.9997 - val_loss: 0.4359 - val_accuracy: 0.9769\n",
      "Epoch 175/200\n",
      "1500/1500 [==============================] - 4s 3ms/step - loss: 0.0025 - accuracy: 0.9995 - val_loss: 0.4797 - val_accuracy: 0.9757\n",
      "Epoch 176/200\n",
      "1500/1500 [==============================] - 4s 3ms/step - loss: 0.0038 - accuracy: 0.9994 - val_loss: 0.4943 - val_accuracy: 0.9767\n",
      "Epoch 177/200\n",
      "1500/1500 [==============================] - 4s 3ms/step - loss: 0.0030 - accuracy: 0.9995 - val_loss: 0.4474 - val_accuracy: 0.9770\n",
      "Epoch 178/200\n",
      "1500/1500 [==============================] - 4s 3ms/step - loss: 0.0052 - accuracy: 0.9990 - val_loss: 0.4717 - val_accuracy: 0.9764\n",
      "Epoch 179/200\n",
      "1500/1500 [==============================] - 5s 3ms/step - loss: 0.0028 - accuracy: 0.9995 - val_loss: 0.4898 - val_accuracy: 0.9768\n",
      "Epoch 180/200\n",
      "1500/1500 [==============================] - 4s 3ms/step - loss: 0.0027 - accuracy: 0.9995 - val_loss: 0.4701 - val_accuracy: 0.9778\n",
      "Epoch 181/200\n",
      "1500/1500 [==============================] - 4s 3ms/step - loss: 0.0033 - accuracy: 0.9994 - val_loss: 0.4905 - val_accuracy: 0.9757\n",
      "Epoch 182/200\n",
      "1500/1500 [==============================] - 4s 3ms/step - loss: 0.0045 - accuracy: 0.9992 - val_loss: 0.4808 - val_accuracy: 0.9773\n",
      "Epoch 183/200\n",
      "1500/1500 [==============================] - 4s 3ms/step - loss: 0.0030 - accuracy: 0.9994 - val_loss: 0.5407 - val_accuracy: 0.9750\n",
      "Epoch 184/200\n",
      "1500/1500 [==============================] - 4s 3ms/step - loss: 0.0015 - accuracy: 0.9997 - val_loss: 0.4461 - val_accuracy: 0.9791\n",
      "Epoch 185/200\n",
      "1500/1500 [==============================] - 4s 3ms/step - loss: 0.0035 - accuracy: 0.9992 - val_loss: 0.4796 - val_accuracy: 0.9775\n",
      "Epoch 186/200\n",
      "1500/1500 [==============================] - 4s 3ms/step - loss: 0.0029 - accuracy: 0.9994 - val_loss: 0.5047 - val_accuracy: 0.9774\n",
      "Epoch 187/200\n",
      "1500/1500 [==============================] - 5s 3ms/step - loss: 0.0016 - accuracy: 0.9997 - val_loss: 0.4939 - val_accuracy: 0.9773\n",
      "Epoch 188/200\n",
      "1500/1500 [==============================] - 5s 3ms/step - loss: 0.0024 - accuracy: 0.9996 - val_loss: 0.4751 - val_accuracy: 0.9773\n",
      "Epoch 189/200\n",
      "1500/1500 [==============================] - 5s 3ms/step - loss: 0.0049 - accuracy: 0.9992 - val_loss: 0.5789 - val_accuracy: 0.9745\n",
      "Epoch 190/200\n",
      "1500/1500 [==============================] - 4s 3ms/step - loss: 0.0044 - accuracy: 0.9992 - val_loss: 0.5743 - val_accuracy: 0.9711\n",
      "Epoch 191/200\n",
      "1500/1500 [==============================] - 4s 3ms/step - loss: 0.0040 - accuracy: 0.9994 - val_loss: 0.4753 - val_accuracy: 0.9775\n",
      "Epoch 192/200\n",
      "1500/1500 [==============================] - 4s 3ms/step - loss: 0.0018 - accuracy: 0.9997 - val_loss: 0.4873 - val_accuracy: 0.9777\n",
      "Epoch 193/200\n",
      "1500/1500 [==============================] - 4s 3ms/step - loss: 2.9540e-04 - accuracy: 1.0000 - val_loss: 0.4414 - val_accuracy: 0.9792\n",
      "Epoch 194/200\n",
      "1500/1500 [==============================] - 4s 3ms/step - loss: 0.0039 - accuracy: 0.9994 - val_loss: 0.5352 - val_accuracy: 0.9746\n",
      "Epoch 195/200\n",
      "1500/1500 [==============================] - 4s 3ms/step - loss: 0.0024 - accuracy: 0.9995 - val_loss: 0.5001 - val_accuracy: 0.9774\n",
      "Epoch 196/200\n",
      "1500/1500 [==============================] - 4s 3ms/step - loss: 0.0044 - accuracy: 0.9993 - val_loss: 0.5193 - val_accuracy: 0.9773\n",
      "Epoch 197/200\n",
      "1500/1500 [==============================] - 4s 3ms/step - loss: 4.8748e-04 - accuracy: 0.9999 - val_loss: 0.5258 - val_accuracy: 0.9780\n",
      "Epoch 198/200\n",
      "1500/1500 [==============================] - 4s 3ms/step - loss: 0.0033 - accuracy: 0.9994 - val_loss: 0.5314 - val_accuracy: 0.9762\n",
      "Epoch 199/200\n",
      "1500/1500 [==============================] - 4s 3ms/step - loss: 0.0044 - accuracy: 0.9993 - val_loss: 0.5283 - val_accuracy: 0.9760\n",
      "Epoch 200/200\n",
      "1500/1500 [==============================] - 4s 3ms/step - loss: 0.0027 - accuracy: 0.9995 - val_loss: 0.5079 - val_accuracy: 0.9772\n"
     ]
    }
   ],
   "source": [
    "history = model.fit(X_train,y_train,epochs=200,validation_split=0.2)"
   ]
  },
  {
   "cell_type": "code",
   "execution_count": 22,
   "metadata": {
    "id": "CazuknkLW_LY"
   },
   "outputs": [
    {
     "name": "stdout",
     "output_type": "stream",
     "text": [
      "313/313 [==============================] - 0s 1ms/step\n"
     ]
    }
   ],
   "source": [
    "y_prob = model.predict(X_test)"
   ]
  },
  {
   "cell_type": "code",
   "execution_count": 23,
   "metadata": {
    "id": "5nELQpFrXQIi"
   },
   "outputs": [],
   "source": [
    "y_pred = y_prob.argmax(axis=1)"
   ]
  },
  {
   "cell_type": "code",
   "execution_count": 24,
   "metadata": {
    "colab": {
     "base_uri": "https://localhost:8080/"
    },
    "id": "jcyA9XVHXY6o",
    "outputId": "1b8ed97e-4fcb-43b6-d6df-df0b1061aac2"
   },
   "outputs": [
    {
     "data": {
      "text/plain": [
       "0.9804"
      ]
     },
     "execution_count": 24,
     "metadata": {},
     "output_type": "execute_result"
    }
   ],
   "source": [
    "from sklearn.metrics import accuracy_score\n",
    "accuracy_score(y_test,y_pred)"
   ]
  },
  {
   "cell_type": "code",
   "execution_count": 25,
   "metadata": {
    "colab": {
     "base_uri": "https://localhost:8080/",
     "height": 283
    },
    "id": "NT2HxBnDXv_V",
    "outputId": "a145a034-19d9-4a94-8bfb-c908c8aa62b6"
   },
   "outputs": [
    {
     "data": {
      "text/plain": [
       "[<matplotlib.lines.Line2D at 0x19d0cb9bfd0>]"
      ]
     },
     "execution_count": 25,
     "metadata": {},
     "output_type": "execute_result"
    },
    {
     "data": {
      "image/png": "[encoded data removed]",
      "text/plain": [
       "<Figure size 640x480 with 1 Axes>"
      ]
     },
     "metadata": {},
     "output_type": "display_data"
    }
   ],
   "source": [
    "plt.plot(history.history['loss'])\n",
    "plt.plot(history.history['val_loss'])"
   ]
  },
  {
   "cell_type": "code",
   "execution_count": 26,
   "metadata": {
    "colab": {
     "base_uri": "https://localhost:8080/",
     "height": 283
    },
    "id": "Ln1DIjDOY8E7",
    "outputId": "c846005f-e512-4be9-c2c2-5e5e24603cbb"
   },
   "outputs": [
    {
     "data": {
      "text/plain": [
       "[<matplotlib.lines.Line2D at 0x19d0cc86580>]"
      ]
     },
     "execution_count": 26,
     "metadata": {},
     "output_type": "execute_result"
    },
    {
     "data": {
      "image/png": "[encoded data removed]",
      "text/plain": [
       "<Figure size 640x480 with 1 Axes>"
      ]
     },
     "metadata": {},
     "output_type": "display_data"
    }
   ],
   "source": [
    "plt.plot(history.history['accuracy'])\n",
    "plt.plot(history.history['val_accuracy'])"
   ]
  },
  {
   "cell_type": "code",
   "execution_count": 27,
   "metadata": {
    "colab": {
     "base_uri": "https://localhost:8080/",
     "height": 283
    },
    "id": "F0eTtwmSZGQn",
    "outputId": "84241465-c39e-4edb-9ac8-3fb6c27ad2f7"
   },
   "outputs": [
    {
     "data": {
      "text/plain": [
       "<matplotlib.image.AxesImage at 0x19d0dc96c10>"
      ]
     },
     "execution_count": 27,
     "metadata": {},
     "output_type": "execute_result"
    },
    {
     "data": {
      "image/png": "[encoded data removed]",
      "text/plain": [
       "<Figure size 640x480 with 1 Axes>"
      ]
     },
     "metadata": {},
     "output_type": "display_data"
    }
   ],
   "source": [
    "plt.imshow(X_test[1])"
   ]
  },
  {
   "cell_type": "code",
   "execution_count": 28,
   "metadata": {
    "colab": {
     "base_uri": "https://localhost:8080/"
    },
    "id": "mBKWjIxealMY",
    "outputId": "ec611b7e-333d-416e-e519-1234691ae78c"
   },
   "outputs": [
    {
     "name": "stdout",
     "output_type": "stream",
     "text": [
      "1/1 [==============================] - 0s 20ms/step\n"
     ]
    },
    {
     "data": {
      "text/plain": [
       "array([2], dtype=int64)"
      ]
     },
     "execution_count": 28,
     "metadata": {},
     "output_type": "execute_result"
    }
   ],
   "source": [
    "model.predict(X_test[1].reshape(1,28,28)).argmax(axis=1)"
   ]
  }
 ],
 "metadata": {
  "colab": {
   "provenance": [],
   "toc_visible": true
  },
  "kernelspec": {
   "display_name": "Python 3",
   "language": "python",
   "name": "python3"
  },
  "language_info": {
   "codemirror_mode": {
    "name": "ipython",
    "version": 3
   },
   "file_extension": ".py",
   "mimetype": "text/x-python",
   "name": "python",
   "nbconvert_exporter": "python",
   "pygments_lexer": "ipython3",
   "version": "3.8.5"
  }
 },
 "nbformat": 4,
 "nbformat_minor": 1
}
